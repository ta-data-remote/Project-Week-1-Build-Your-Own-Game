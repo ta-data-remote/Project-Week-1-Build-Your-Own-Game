{
 "cells": [
  {
   "cell_type": "code",
   "execution_count": 9,
   "id": "6238cff7",
   "metadata": {},
   "outputs": [],
   "source": [
    "import random\n",
    "import string\n",
    "\n",
    "lower_case = str(string.ascii_lowercase)\n",
    "upper_case = str(string.ascii_uppercase)\n",
    "symbols = str(string.punctuation)\n",
    "digits = str(string.digits)\n",
    "\n",
    "nbrs_length = list(range(4, 17))\n",
    "requirements = []"
   ]
  },
  {
   "cell_type": "code",
   "execution_count": 10,
   "id": "85ff6962",
   "metadata": {},
   "outputs": [
    {
     "name": "stdout",
     "output_type": "stream",
     "text": [
      "Please input the length of your password. The length can only be between 4 and 16 characters:14\n"
     ]
    }
   ],
   "source": [
    "req_length  = int(input(\"Please input the length of your password. The length can only be between 4 and 16 characters:\"))\n",
    "\n",
    "while req_length not in nbrs_length:\n",
    "    req_length = int(input(\"Please enter a number between 4 and 16:\"))\n",
    "    \n",
    "#After second input, wrong answers will not be changed."
   ]
  },
  {
   "cell_type": "code",
   "execution_count": 11,
   "id": "609d9b99",
   "metadata": {
    "scrolled": true
   },
   "outputs": [],
   "source": [
    "def req_check_add (req_char, inp_char):\n",
    "    \n",
    "    '''....'''\n",
    "    \n",
    "    while req_char != \"y\" and req_char != \"n\":\n",
    "        req_char = str(input(\"Please enter (y/n):\"))\n",
    "    \n",
    "    if req_char == \"y\":\n",
    "        requirements.append(inp_char)\n",
    "        \n"
   ]
  },
  {
   "cell_type": "code",
   "execution_count": 12,
   "id": "fc3902cc",
   "metadata": {},
   "outputs": [
    {
     "name": "stdout",
     "output_type": "stream",
     "text": [
      "Do you want to include uppercase letters? (y/n):y\n",
      "Do you want to include lowercase letters? (y/n):y\n",
      "Do you want to include symbols? (y/n):y\n",
      "Do you want to include numbers? (y/n):y\n"
     ]
    }
   ],
   "source": [
    "while requirements == []:\n",
    "    req_upper = str(input(\"Do you want to include uppercase letters? (y/n):\"))\n",
    "    req_check_add(req_upper, upper_case)\n",
    "\n",
    "    req_lower = str(input(\"Do you want to include lowercase letters? (y/n):\")) \n",
    "    req_check_add(req_lower, lower_case)\n",
    "\n",
    "    req_symbols = str(input(\"Do you want to include symbols? (y/n):\"))\n",
    "    req_check_add(req_symbols, symbols)\n",
    "\n",
    "    req_number = str(input(\"Do you want to include numbers? (y/n):\"))\n",
    "    req_check_add(req_number, digits)\n",
    "\n",
    "requirements = \"\".join(requirements)"
   ]
  },
  {
   "cell_type": "code",
   "execution_count": 17,
   "id": "c5fd2cef",
   "metadata": {},
   "outputs": [
    {
     "name": "stdout",
     "output_type": "stream",
     "text": [
      "E:KQF)Z2y!@;/O\n"
     ]
    }
   ],
   "source": [
    "\n",
    "password = []\n",
    "for i in range(req_length):\n",
    "    i = random.choice(requirements)\n",
    "    password.append(i)\n",
    "password = \"\".join(password)\n",
    "    \n",
    "print(password)\n",
    "\n"
   ]
  },
  {
   "cell_type": "code",
   "execution_count": null,
   "id": "2f816d78",
   "metadata": {},
   "outputs": [],
   "source": []
  }
 ],
 "metadata": {
  "kernelspec": {
   "display_name": "Python 3",
   "language": "python",
   "name": "python3"
  },
  "language_info": {
   "codemirror_mode": {
    "name": "ipython",
    "version": 3
   },
   "file_extension": ".py",
   "mimetype": "text/x-python",
   "name": "python",
   "nbconvert_exporter": "python",
   "pygments_lexer": "ipython3",
   "version": "3.8.8"
  }
 },
 "nbformat": 4,
 "nbformat_minor": 5
}
