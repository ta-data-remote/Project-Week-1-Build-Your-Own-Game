{
 "cells": [
  {
   "cell_type": "markdown",
   "id": "1515067d",
   "metadata": {},
   "source": [
    "# The hangfolk game version lau.0"
   ]
  },
  {
   "cell_type": "markdown",
   "id": "f3e09790",
   "metadata": {},
   "source": [
    "## Welcome "
   ]
  },
  {
   "cell_type": "code",
   "execution_count": 1,
   "id": "7b1bd5ed",
   "metadata": {},
   "outputs": [
    {
     "name": "stdout",
     "output_type": "stream",
     "text": [
      "Welcome to the hangfolk game version lau.0\n"
     ]
    }
   ],
   "source": [
    "print(\"Welcome to the hangfolk game version lau.0\")"
   ]
  },
  {
   "cell_type": "code",
   "execution_count": 3,
   "id": "16bd62a4",
   "metadata": {},
   "outputs": [
    {
     "name": "stdout",
     "output_type": "stream",
     "text": [
      "Please, enter your name:5\n",
      "Hello, 5\n"
     ]
    }
   ],
   "source": [
    "player_name =  input(\"Please, enter your name:\")\n",
    "print(\"Hello,\",player_name)"
   ]
  },
  {
   "cell_type": "code",
   "execution_count": null,
   "id": "dc74298e",
   "metadata": {},
   "outputs": [],
   "source": [
    "pr"
   ]
  }
 ],
 "metadata": {
  "kernelspec": {
   "display_name": "Laura1Env",
   "language": "python",
   "name": "laura1env"
  },
  "language_info": {
   "codemirror_mode": {
    "name": "ipython",
    "version": 3
   },
   "file_extension": ".py",
   "mimetype": "text/x-python",
   "name": "python",
   "nbconvert_exporter": "python",
   "pygments_lexer": "ipython3",
   "version": "3.9.2"
  }
 },
 "nbformat": 4,
 "nbformat_minor": 5
}
