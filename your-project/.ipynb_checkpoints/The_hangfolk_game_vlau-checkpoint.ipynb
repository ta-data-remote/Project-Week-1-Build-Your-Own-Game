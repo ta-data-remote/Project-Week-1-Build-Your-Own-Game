{
 "cells": [
  {
   "cell_type": "markdown",
   "id": "1515067d",
   "metadata": {},
   "source": [
    "# The hangfolk game version lau.0"
   ]
  },
  {
   "cell_type": "markdown",
   "id": "8bbca474",
   "metadata": {},
   "source": [
    "## Welcome"
   ]
  },
  {
   "cell_type": "code",
   "execution_count": 54,
   "id": "a1a712bd",
   "metadata": {},
   "outputs": [],
   "source": [
    "def welcome():\n",
    "    '''\n",
    "    This function welcomes the player asking for her/his name.\n",
    "    It has no return, it just prints\n",
    "    '''\n",
    "\n",
    "    player_name =  input(\"Please, enter your name: \")\n",
    "    print(\"Hello,\",player_name)\n",
    "    print(\"You probably know the game... In can you don't, I will quickly explain how it works...\")\n",
    "    print(\"You will have to guess the choosen word, picking in each turn a letter from the alphabet.If you fail, you will loose one of the 11 lives you have\")\n",
    "    print(\"If you fail too much, you will be hanged\")"
   ]
  },
  {
   "cell_type": "markdown",
   "id": "fb48a160",
   "metadata": {},
   "source": [
    "## Choosing a topic"
   ]
  },
  {
   "cell_type": "code",
   "execution_count": 55,
   "id": "ad7f46ba",
   "metadata": {},
   "outputs": [],
   "source": [
    "def choose_a_topic():\n",
    "    '''\n",
    "    This function is for choosing a topic from the provided ones.\n",
    "    The player inputs the topic. The functions makes sures the topic is one of the given ones.\n",
    "    It returns the topic chosen by the player\n",
    "    '''\n",
    "\n",
    "    print(\"Now I will display a list of topics and you will hace to pick one:\")\n",
    "    list_topics = [\"sports\", \"medicine\", \"nature\"]\n",
    "\n",
    "    for topics in list_topics:\n",
    "        print(topics)\n",
    "\n",
    "    player_topic = input(\"Please, enter the topic you have choosen:\")\n",
    "\n",
    "    check_topic = True\n",
    "\n",
    "    while check_topic:\n",
    "        if player_topic in list_topics:\n",
    "            print(\"Great! You have choosen: \", player_topic)\n",
    "            check_topic = False\n",
    "        else:\n",
    "            player_topic = input(\"Please, enter the topic you have choosen correctly/from the list before:\")\n",
    "\n",
    "    return player_topic"
   ]
  },
  {
   "cell_type": "markdown",
   "id": "25b0fe0e",
   "metadata": {},
   "source": [
    "## Providing a word"
   ]
  },
  {
   "cell_type": "code",
   "execution_count": null,
   "id": "8242c231",
   "metadata": {},
   "outputs": [],
   "source": [
    "def clean_list(list1, drop=\"\\n\"):\n",
    "    '''\n",
    "    This function cleans a list from escape sequences and transforms the elements/strings\n",
    "    in lower case.\n",
    "    The input is a list and drop can be modified with more special characters.\n",
    "    A new clean list is returned.\n",
    "    '''\n",
    "\n",
    "    clean_list = []\n",
    "    for element in list1:\n",
    "        element = element.lower()\n",
    "        element = element.replace(drop, \"\")\n",
    "        clean_list.append(element)\n",
    "    return clean_list"
   ]
  },
  {
   "cell_type": "code",
   "execution_count": 56,
   "id": "526880f8",
   "metadata": {},
   "outputs": [],
   "source": [
    "def choose_word(list1):\n",
    "    '''\n",
    "    This function selects randomly an element.\n",
    "    The input must be a list and the output is the selected element\n",
    "    '''\n",
    "    chosen_word = random.choice(list1)\n",
    "    return chosen_word"
   ]
  },
  {
   "cell_type": "markdown",
   "id": "6169bccf",
   "metadata": {},
   "source": [
    "## Player inputs letter"
   ]
  },
  {
   "cell_type": "code",
   "execution_count": null,
   "id": "d6ca27fe",
   "metadata": {},
   "outputs": [],
   "source": [
    "def player_input_letter(letters) :\n",
    "    '''\n",
    "    This function ask the player for the letter to play. It also\n",
    "    makes sures that is not a repeated letter and is not a digit. It will ask untill\n",
    "    it get the right input.\n",
    "    The input must be a list and the output is the output a single character.\n",
    "    In this case the list of used letters.\n",
    "    '''\n",
    "\n",
    "    while True:\n",
    "        input_letter = input(\"Please,enter a letter: \")\n",
    "        if input_letter not in letters and input_letter.isdigit() == False:\n",
    "            break\n",
    "        elif input_letter in letters:\n",
    "            print(\"Please,enter another letter. This one you have already used\")\n",
    "        elif input_letter.isdigit():\n",
    "            print(\"Please, enter a letter, not a digit\")\n",
    "\n",
    "    return input_letter"
   ]
  },
  {
   "cell_type": "markdown",
   "id": "523369e2",
   "metadata": {},
   "source": [
    "## Display of the game"
   ]
  },
  {
   "cell_type": "code",
   "execution_count": 57,
   "id": "cec0f518",
   "metadata": {},
   "outputs": [],
   "source": [
    "def generate_word_display(hidden_word, list_letters):\n",
    "    '''\n",
    "    This function generates a display of the encrypted word. It creates\n",
    "    an empty string where the letters present on the list are concatenated with *,\n",
    "    for the letters that are not present in the list but in the word.\n",
    "    In this way, we just show the played letters.\n",
    "    the inputs are a string (the word) and a list (the used_letters)\n",
    "    '''\n",
    "    result = str()\n",
    "    for character in hidden_word:\n",
    "        if character in list_letters:\n",
    "            result = result + character\n",
    "        else:\n",
    "            result = result + \"*\"\n",
    "    return result"
   ]
  },
  {
   "cell_type": "code",
   "execution_count": 58,
   "id": "cd2516f7",
   "metadata": {},
   "outputs": [],
   "source": [
    "def print_current_game(list_letters,hidden_word):\n",
    "    '''\n",
    "    This function prints the list of used letters and the encrypted word.\n",
    "    It will be print every turn, so it will show the advances on the game.\n",
    "    The inputs are a list of letter(the used letters) and a string (encrypted word)\n",
    "    '''\n",
    "    print(\"Those are the letters you have used:\", list_letters)\n",
    "    print(\"This is the word:\", hidden_word)"
   ]
  },
  {
   "cell_type": "markdown",
   "id": "2f42a1b8",
   "metadata": {},
   "source": [
    "## Main function - Game"
   ]
  },
  {
   "cell_type": "code",
   "execution_count": 59,
   "id": "5f02be38",
   "metadata": {},
   "outputs": [],
   "source": [
    "def main():\n",
    "    '''\n",
    "    This function is the one who is gonna make run the game as many times as the player wants\n",
    "    '''\n",
    "    print(\"Welcome to the hangfolk game version lau.0\")\n",
    "    while True:\n",
    "        welcome()\n",
    "\n",
    "        player_topic = choose_a_topic()\n",
    "\n",
    "        sports_file = open(\"/Users/lauratll/Documents/Data_Analysis/IronHack/Week_1/Project_week1/Project-Week-1-Build-Your-Own-Game/your-project/sports_list.txt\")\n",
    "        medicine_file = open(\"/Users/lauratll/Documents/Data_Analysis/IronHack/Week_1/Project_week1/Project-Week-1-Build-Your-Own-Game/your-project/medicine_list.txt\")\n",
    "        nature_file = open(\"/Users/lauratll/Documents/Data_Analysis/IronHack/Week_1/Project_week1/Project-Week-1-Build-Your-Own-Game/your-project/nature_list.txt\")\n",
    "        sports_list = clean_list(sports_file)\n",
    "        medicine_list = clean_list(medicine_file)\n",
    "        nature_list = clean_list(nature_file)\n",
    "\n",
    "        dic_words = {}\n",
    "        dic_words[\"sports\"] = sports_list\n",
    "        dic_words[\"medicine\"] = medicine_list\n",
    "        dic_words[\"nature\"] = nature_list\n",
    "        word = choose_word(dic_words[player_topic])\n",
    "\n",
    "        ongoing = True\n",
    "        used_letters = []\n",
    "        lives = 11\n",
    "        player_wins = False\n",
    "\n",
    "        while ongoing:\n",
    "            player_letter = player_input_letter(used_letters)\n",
    "            used_letters.append(player_letter)\n",
    "            word_display = generate_word_display(word, used_letters)\n",
    "            if player_letter not in word:\n",
    "                lives -= 1\n",
    "                if lives == 0:\n",
    "                    ongoing = False\n",
    "\n",
    "            if \"*\" not in word_display:\n",
    "                ongoing= False\n",
    "                player_wins= True\n",
    "\n",
    "            print_current_game(used_letters, word_display)\n",
    "\n",
    "        if player_wins:\n",
    "            print(f\"Cool! You have won! The word was: {word}\")\n",
    "        else:\n",
    "            print(\"Sorry, you have used all your lives. You are hanged!\")\n",
    "\n",
    "        play_again = input(\"Would you like to play again?(Yes/No)\")\n",
    "        if play_again == \"No\":\n",
    "            break"
   ]
  },
  {
   "cell_type": "markdown",
   "id": "c4995949",
   "metadata": {},
   "source": [
    "## Starts the game!"
   ]
  },
  {
   "cell_type": "code",
   "execution_count": null,
   "id": "ba6e077e",
   "metadata": {},
   "outputs": [],
   "source": [
    "main()"
   ]
  }
 ],
 "metadata": {
  "kernelspec": {
   "display_name": "Laura1Env",
   "language": "python",
   "name": "laura1env"
  },
  "language_info": {
   "codemirror_mode": {
    "name": "ipython",
    "version": 3
   },
   "file_extension": ".py",
   "mimetype": "text/x-python",
   "name": "python",
   "nbconvert_exporter": "python",
   "pygments_lexer": "ipython3",
   "version": "3.9.2"
  }
 },
 "nbformat": 4,
 "nbformat_minor": 5
}
