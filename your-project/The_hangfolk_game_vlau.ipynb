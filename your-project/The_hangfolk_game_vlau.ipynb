{
 "cells": [
  {
   "cell_type": "markdown",
   "id": "1515067d",
   "metadata": {},
   "source": [
    "# The hangfolk game version lau.0"
   ]
  },
  {
   "cell_type": "markdown",
   "id": "f3e09790",
   "metadata": {},
   "source": [
    "## Welcome "
   ]
  },
  {
   "cell_type": "markdown",
   "id": "a5cc6f6a",
   "metadata": {},
   "source": [
    "In this section we will just ask the player for the name and welcome her/him. \n",
    "<br>\n",
    "After, we will explain a bit how the game works."
   ]
  },
  {
   "cell_type": "code",
   "execution_count": 1,
   "id": "7b1bd5ed",
   "metadata": {},
   "outputs": [
    {
     "name": "stdout",
     "output_type": "stream",
     "text": [
      "Welcome to the hangfolk game version lau.0\n"
     ]
    }
   ],
   "source": [
    "print(\"Welcome to the hangfolk game version lau.0\")"
   ]
  },
  {
   "cell_type": "code",
   "execution_count": 2,
   "id": "16bd62a4",
   "metadata": {},
   "outputs": [
    {
     "name": "stdout",
     "output_type": "stream",
     "text": [
      "Please, enter your name: Laura\n",
      "Hello, Laura\n"
     ]
    }
   ],
   "source": [
    "player_name =  input(\"Please, enter your name: \")\n",
    "print(\"Hello,\",player_name)"
   ]
  },
  {
   "cell_type": "code",
   "execution_count": 3,
   "id": "5d1fbec7",
   "metadata": {},
   "outputs": [
    {
     "name": "stdout",
     "output_type": "stream",
     "text": [
      "You probably know the game... In can you don't, I will quickly explain how it works...\n"
     ]
    }
   ],
   "source": [
    "print(\"You probably know the game... In can you don't, I will quickly explain how it works...\")"
   ]
  },
  {
   "cell_type": "code",
   "execution_count": 4,
   "id": "7c6a5020",
   "metadata": {},
   "outputs": [
    {
     "name": "stdout",
     "output_type": "stream",
     "text": [
      "You will have to guess the choosen word, picking in eacht turn a letter from the alphabet.If you fail, a line will be added to the draw.\n"
     ]
    }
   ],
   "source": [
    "print(\"You will have to guess the choosen word, picking in eacht turn a letter from the alphabet.If you fail, a line will be added to the draw.\")"
   ]
  },
  {
   "cell_type": "code",
   "execution_count": 5,
   "id": "530fb986",
   "metadata": {},
   "outputs": [
    {
     "name": "stdout",
     "output_type": "stream",
     "text": [
      "If you fail too much, you will be hanged\n"
     ]
    }
   ],
   "source": [
    "print(\"If you fail too much, you will be hanged\")"
   ]
  },
  {
   "cell_type": "markdown",
   "id": "5a2c2c3c",
   "metadata": {},
   "source": [
    "## Choosing a topic"
   ]
  },
  {
   "cell_type": "markdown",
   "id": "e2428500",
   "metadata": {},
   "source": [
    "Now is thime for the player to choose for a topic and for a level of difficulty that will depend on how many letters the word to play will have."
   ]
  },
  {
   "cell_type": "code",
   "execution_count": 6,
   "id": "04505ed8",
   "metadata": {},
   "outputs": [
    {
     "name": "stdout",
     "output_type": "stream",
     "text": [
      "Now I will display a list of topics and you will hace to pick one:\n"
     ]
    }
   ],
   "source": [
    "print(\"Now I will display a list of topics and you will hace to pick one:\")"
   ]
  },
  {
   "cell_type": "code",
   "execution_count": 7,
   "id": "c6d155bc",
   "metadata": {},
   "outputs": [
    {
     "name": "stdout",
     "output_type": "stream",
     "text": [
      "sports\n",
      "medicine\n",
      "nature\n"
     ]
    }
   ],
   "source": [
    "list_topics = [\"sports\", \"medicine\", \"nature\"]\n",
    "\n",
    "for topics in list_topics:\n",
    "    print(topics)"
   ]
  },
  {
   "cell_type": "code",
   "execution_count": 8,
   "id": "a405c7e7",
   "metadata": {
    "scrolled": true
   },
   "outputs": [
    {
     "name": "stdout",
     "output_type": "stream",
     "text": [
      "Please, enter the topic you have choosen:sports\n",
      "Great! You have choosen:  sports\n"
     ]
    }
   ],
   "source": [
    "player_topic =  input(\"Please, enter the topic you have choosen:\")\n",
    "\n",
    "check_topic= True\n",
    "\n",
    "while check_topic:\n",
    "    if player_topic in list_topics:\n",
    "        print(\"Great! You have choosen: \", player_topic)\n",
    "        check_topic=False\n",
    "    else:\n",
    "        player_topic =  input(\"Please, enter the topic you have choosen correctly/from the list before:\")  \n",
    "    "
   ]
  },
  {
   "cell_type": "code",
   "execution_count": 9,
   "id": "f58331d8",
   "metadata": {},
   "outputs": [
    {
     "name": "stdout",
     "output_type": "stream",
     "text": [
      "There are three levels of difficulty:\n",
      "- In the easy level you play with words with less than 4 letters\n",
      "- In the difficult level you play with words with more than 6 letters\n"
     ]
    }
   ],
   "source": [
    "print(\"There are three levels of difficulty:\")\n",
    "\n",
    "dic_difficulty = {\"less than 4\":\"easy\",\"more than 6\":\"medium\",\"more than 6\":\"difficult\"}\n",
    "\n",
    "#Why it does not print the medium one?\n",
    "for letters,level in dic_difficulty.items():\n",
    "    print(f\"- In the {level} level you play with words with {letters} letters\")"
   ]
  },
  {
   "cell_type": "code",
   "execution_count": 13,
   "id": "f52dd6fe",
   "metadata": {},
   "outputs": [
    {
     "name": "stdout",
     "output_type": "stream",
     "text": [
      "Please, enter the difficulty you would like:easy\n",
      "Great! You have choosen:  easy\n"
     ]
    }
   ],
   "source": [
    "player_difficulty =  input(\"Please, enter the difficulty you would like:\")\n",
    "player_difficulty = str(player_difficulty)\n",
    "\n",
    "check_difficulty= True\n",
    "\n",
    "while check_difficulty:\n",
    "    if player_topic in dic_difficulty.values():\n",
    "        print(\"Great! You have choosen: \", player_difficulty)\n",
    "        check_difficulty=False\n",
    "    else:\n",
    "        player_difficulty =  input(\"Please, enter the level correctly: \")\n",
    "    "
   ]
  },
  {
   "cell_type": "code",
   "execution_count": 12,
   "id": "ef29601e",
   "metadata": {},
   "outputs": [
    {
     "data": {
      "text/plain": [
       "True"
      ]
     },
     "execution_count": 12,
     "metadata": {},
     "output_type": "execute_result"
    }
   ],
   "source": [
    "dic_words= {\"sports\": [\"aerobics\n"
   ]
  },
  {
   "cell_type": "code",
   "execution_count": null,
   "id": "91b2f326",
   "metadata": {},
   "outputs": [],
   "source": []
  },
  {
   "cell_type": "code",
   "execution_count": null,
   "id": "4ff8234d",
   "metadata": {},
   "outputs": [],
   "source": []
  },
  {
   "cell_type": "code",
   "execution_count": null,
   "id": "ced89c46",
   "metadata": {},
   "outputs": [],
   "source": [
    "sports_words = []"
   ]
  },
  {
   "cell_type": "code",
   "execution_count": null,
   "id": "0227e73f",
   "metadata": {},
   "outputs": [],
   "source": []
  }
 ],
 "metadata": {
  "kernelspec": {
   "display_name": "Laura1Env",
   "language": "python",
   "name": "laura1env"
  },
  "language_info": {
   "codemirror_mode": {
    "name": "ipython",
    "version": 3
   },
   "file_extension": ".py",
   "mimetype": "text/x-python",
   "name": "python",
   "nbconvert_exporter": "python",
   "pygments_lexer": "ipython3",
   "version": "3.9.2"
  }
 },
 "nbformat": 4,
 "nbformat_minor": 5
}
