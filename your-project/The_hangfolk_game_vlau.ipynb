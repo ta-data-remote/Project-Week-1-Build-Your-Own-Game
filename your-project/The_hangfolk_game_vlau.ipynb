{
 "cells": [
  {
   "cell_type": "markdown",
   "id": "1515067d",
   "metadata": {},
   "source": [
    "# The hangfolk game version lau.0"
   ]
  },
  {
   "cell_type": "markdown",
   "id": "f3e09790",
   "metadata": {},
   "source": [
    "## Welcome "
   ]
  },
  {
   "cell_type": "markdown",
   "id": "b6149d2d",
   "metadata": {},
   "source": [
    "In this section we will just ask the player for the name and welcome her/him. \n",
    "<br>\n",
    "After, we will explain a bit how the game works."
   ]
  },
  {
   "cell_type": "code",
   "execution_count": null,
   "id": "7b1bd5ed",
   "metadata": {},
   "outputs": [],
   "source": [
    "print(\"Welcome to the hangfolk game version lau.0\")"
   ]
  },
  {
   "cell_type": "code",
   "execution_count": null,
   "id": "16bd62a4",
   "metadata": {},
   "outputs": [],
   "source": [
    "player_name =  input(\"Please, enter your name: \")\n",
    "print(\"Hello,\",player_name)"
   ]
  },
  {
   "cell_type": "code",
   "execution_count": null,
   "id": "4144b2fa",
   "metadata": {},
   "outputs": [],
   "source": [
    "print(\"You probably know the game... In can you don't, I will quickly explain how it works...\")"
   ]
  },
  {
   "cell_type": "code",
   "execution_count": null,
   "id": "569c5ea9",
   "metadata": {},
   "outputs": [],
   "source": [
    "print(\"You will have to guess the choosen word, picking in eacht turn a letter from the alphabet.If you fail, a line will be added to the draw.\")"
   ]
  },
  {
   "cell_type": "code",
   "execution_count": null,
   "id": "630b4e4d",
   "metadata": {},
   "outputs": [],
   "source": [
    "print(\"If you fail too much, you will be hanged\")"
   ]
  },
  {
   "cell_type": "markdown",
   "id": "140fdf03",
   "metadata": {},
   "source": [
    "## Choosing a topic"
   ]
  },
  {
   "cell_type": "markdown",
   "id": "6a6dec77",
   "metadata": {},
   "source": [
    "Now is thime for the player to choose for a topic and for a level of difficulty that will depend on how many letters the word to play will have."
   ]
  },
  {
   "cell_type": "code",
   "execution_count": null,
   "id": "9c2ba170",
   "metadata": {},
   "outputs": [],
   "source": [
    "print(\"Now I will display a list of topics and you will hace to pick one:\")"
   ]
  },
  {
   "cell_type": "code",
   "execution_count": 32,
   "id": "0c6388fa",
   "metadata": {},
   "outputs": [
    {
     "name": "stdout",
     "output_type": "stream",
     "text": [
      "sports\n",
      "medicine\n",
      "nature\n"
     ]
    }
   ],
   "source": [
    "list_topics = [\"sports\", \"medicine\", \"nature\"]\n",
    "\n",
    "for topics in list_topics:\n",
    "    print(topics)"
   ]
  },
  {
   "cell_type": "code",
   "execution_count": 33,
   "id": "79db5868",
   "metadata": {
    "scrolled": true
   },
   "outputs": [
    {
     "name": "stdout",
     "output_type": "stream",
     "text": [
      "Please, enter the topic you have choosen:sports\n",
      "Great! You have choosen:  sports\n"
     ]
    }
   ],
   "source": [
    "player_topic =  input(\"Please, enter the topic you have choosen:\")\n",
    "\n",
    "check_topic= True\n",
    "\n",
    "while check_topic:\n",
    "    if player_topic in list_topics:\n",
    "        print(\"Great! You have choosen: \", player_topic)\n",
    "        check_topic=False\n",
    "    else:\n",
    "        player_topic =  input(\"Please, enter the topic you have choosen correctly/from the list before:\")  \n",
    "    "
   ]
  },
  {
   "cell_type": "code",
   "execution_count": null,
   "id": "926706f4",
   "metadata": {},
   "outputs": [],
   "source": [
    "# print(\"There are three levels of difficulty:\")\n",
    "\n",
    "# dic_difficulty = {\"less than 4\":\"easy\",\"more than 6\":\"medium\",\"more than 6\":\"difficult\"}\n",
    "\n",
    "# #Why it does not print the medium one?\n",
    "# for letters,level in dic_difficulty.items():\n",
    "#     print(f\"- In the {level} level you play with words with {letters} letters\")"
   ]
  },
  {
   "cell_type": "code",
   "execution_count": 1,
   "id": "2ab35097",
   "metadata": {},
   "outputs": [
    {
     "name": "stdout",
     "output_type": "stream",
     "text": [
      "Please, enter the difficulty you would like:easy\n"
     ]
    },
    {
     "ename": "NameError",
     "evalue": "name 'player_topic' is not defined",
     "output_type": "error",
     "traceback": [
      "\u001b[0;31m---------------------------------------------------------------------------\u001b[0m",
      "\u001b[0;31mNameError\u001b[0m                                 Traceback (most recent call last)",
      "\u001b[0;32m<ipython-input-1-e06591bbdee4>\u001b[0m in \u001b[0;36m<module>\u001b[0;34m\u001b[0m\n\u001b[1;32m      5\u001b[0m \u001b[0;34m\u001b[0m\u001b[0m\n\u001b[1;32m      6\u001b[0m \u001b[0;32mwhile\u001b[0m \u001b[0mcheck_difficulty\u001b[0m\u001b[0;34m:\u001b[0m\u001b[0;34m\u001b[0m\u001b[0;34m\u001b[0m\u001b[0m\n\u001b[0;32m----> 7\u001b[0;31m     \u001b[0;32mif\u001b[0m \u001b[0mplayer_topic\u001b[0m \u001b[0;32min\u001b[0m \u001b[0mdic_difficulty\u001b[0m\u001b[0;34m.\u001b[0m\u001b[0mvalues\u001b[0m\u001b[0;34m(\u001b[0m\u001b[0;34m)\u001b[0m\u001b[0;34m:\u001b[0m\u001b[0;34m\u001b[0m\u001b[0;34m\u001b[0m\u001b[0m\n\u001b[0m\u001b[1;32m      8\u001b[0m         \u001b[0mprint\u001b[0m\u001b[0;34m(\u001b[0m\u001b[0;34m\"Great! You have choosen: \"\u001b[0m\u001b[0;34m,\u001b[0m \u001b[0mplayer_difficulty\u001b[0m\u001b[0;34m)\u001b[0m\u001b[0;34m\u001b[0m\u001b[0;34m\u001b[0m\u001b[0m\n\u001b[1;32m      9\u001b[0m         \u001b[0mcheck_difficulty\u001b[0m\u001b[0;34m=\u001b[0m\u001b[0;32mFalse\u001b[0m\u001b[0;34m\u001b[0m\u001b[0;34m\u001b[0m\u001b[0m\n",
      "\u001b[0;31mNameError\u001b[0m: name 'player_topic' is not defined"
     ]
    }
   ],
   "source": [
    "# player_difficulty =  input(\"Please, enter the difficulty you would like:\")\n",
    "# player_difficulty = str(player_difficulty)\n",
    "\n",
    "# check_difficulty= True\n",
    "\n",
    "# while check_difficulty:\n",
    "#     if player_topic in dic_difficulty.values():\n",
    "#         print(\"Great! You have choosen: \", player_difficulty)\n",
    "#         check_difficulty=False\n",
    "#     else:\n",
    "#         player_difficulty =  input(\"Please, enter the level correctly: \")\n",
    "    "
   ]
  },
  {
   "cell_type": "code",
   "execution_count": 34,
   "id": "03418514",
   "metadata": {},
   "outputs": [],
   "source": [
    "sports_file = open(\"sports_list.txt\")\n",
    "medicine_file = open(\"medicine_list.txt\")\n",
    "nature_file = open(\"nature_list.txt\")"
   ]
  },
  {
   "cell_type": "code",
   "execution_count": 35,
   "id": "cc90d03d",
   "metadata": {},
   "outputs": [],
   "source": [
    "def clean_list(list1, drop=\"\\n\"):\n",
    "    clean_list = []\n",
    "    for element in list1:\n",
    "        element = element.lower()\n",
    "        element = element.replace(drop,\"\")\n",
    "        clean_list.append(element)\n",
    "    return clean_list\n",
    "    \n"
   ]
  },
  {
   "cell_type": "code",
   "execution_count": 36,
   "id": "426a3dcf",
   "metadata": {},
   "outputs": [],
   "source": [
    "sports_list = clean_list(sports_file)\n",
    "medicine_list = clean_list(medicine_file)\n",
    "nature_list = clean_list(nature_file)"
   ]
  },
  {
   "cell_type": "code",
   "execution_count": 37,
   "id": "c147ab4b",
   "metadata": {},
   "outputs": [],
   "source": [
    "dic_words = {}\n",
    "\n",
    "dic_words[\"sports\"] = sports_list\n",
    "dic_words[\"medicine\"] = medicine_list\n",
    "dic_words[\"nature\"] = nature_list"
   ]
  },
  {
   "cell_type": "code",
   "execution_count": 39,
   "id": "be9709a9",
   "metadata": {},
   "outputs": [],
   "source": [
    "import random\n",
    "\n",
    "def choose_word(topic):\n",
    "    chosen_word = random.choice(dic_words[\"sports\"])\n",
    "    return chosen_word\n",
    "\n",
    "chosen_word = choose_word(player_topic)"
   ]
  },
  {
   "cell_type": "code",
   "execution_count": 40,
   "id": "b0bae742",
   "metadata": {},
   "outputs": [
    {
     "name": "stdout",
     "output_type": "stream",
     "text": [
      "canoeing\n"
     ]
    }
   ],
   "source": []
  },
  {
   "cell_type": "code",
   "execution_count": null,
   "id": "b1416359",
   "metadata": {},
   "outputs": [],
   "source": [
    "sports_words = []"
   ]
  },
  {
   "cell_type": "code",
   "execution_count": null,
   "id": "af16f6ac",
   "metadata": {},
   "outputs": [],
   "source": []
  }
 ],
 "metadata": {
  "kernelspec": {
   "display_name": "Laura1Env",
   "language": "python",
   "name": "laura1env"
  },
  "language_info": {
   "codemirror_mode": {
    "name": "ipython",
    "version": 3
   },
   "file_extension": ".py",
   "mimetype": "text/x-python",
   "name": "python",
   "nbconvert_exporter": "python",
   "pygments_lexer": "ipython3",
   "version": "3.9.2"
  }
 },
 "nbformat": 4,
 "nbformat_minor": 5
}
