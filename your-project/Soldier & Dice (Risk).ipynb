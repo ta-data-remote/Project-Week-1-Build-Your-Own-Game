{
 "cells": [
  {
   "cell_type": "markdown",
   "metadata": {},
   "source": [
    "# Project Week 1 - Build your own game!"
   ]
  },
  {
   "cell_type": "markdown",
   "metadata": {},
   "source": [
    "## Soldier & Dice (RISK)"
   ]
  },
  {
   "cell_type": "code",
   "execution_count": null,
   "metadata": {},
   "outputs": [
    {
     "name": "stdout",
     "output_type": "stream",
     "text": [
      "\n",
      "\n",
      "Enter your number of soldiers for attacking or enter 'quit' if you want to surrend: \n",
      "\n",
      "\n",
      "Please, introduce something I can understand if you want to play Risk with me!!\n",
      "------------------------------\n",
      "\n",
      "\n"
     ]
    }
   ],
   "source": [
    "import random\n",
    "\n",
    "\n",
    "\n",
    "playagain=True\n",
    "\n",
    "while (playagain==True):\n",
    "    \n",
    "    player=0\n",
    "    machine=0\n",
    "    \n",
    "    diceuser=[]\n",
    "    dicemachine=[]\n",
    "    \n",
    "    print(\"\\n\")\n",
    "    x=input(\"Enter your number of soldiers for attacking or enter 'quit' if you want to surrend:\") \n",
    "      \n",
    "    \n",
    "    if x.isdigit() == False:        \n",
    "       \n",
    "        if x.lower() == \"quit\":\n",
    "            playagain==False\n",
    "            print(\"\\n\")\n",
    "            print(\"Thank you for playing! That's all for now, folks!\")\n",
    "            print(\"------------------------------\")\n",
    "            break\n",
    "        else:\n",
    "            print(\"\\n\")\n",
    "            print(\"Please, introduce something I can understand if you want to play Risk with me!!\")\n",
    "            print(\"------------------------------\")\n",
    "        \n",
    "    else:\n",
    "        \n",
    "                \n",
    "        x=int(x)\n",
    "        \n",
    "        if x == 0:\n",
    "            print(\"\\n\")\n",
    "            print(\"How are you going to attack me with 0 soldiers? LOL\")\n",
    "            print(\"------------------------------\")\n",
    "        \n",
    "        if x == 1:\n",
    "            print(\"\\n\")\n",
    "            print(\"One soldier is not enough to attack! Don't waste our time!\")\n",
    "            print(\"------------------------------\")\n",
    "        \n",
    "        \n",
    "        \n",
    "        if x == 2:\n",
    "            diceuser.append(random.randint(1,6))                    \n",
    "            dicemachine.append(random.randint(1,6))                 \n",
    "            dicemachine.append(random.randint(1,6))\n",
    "            print(\"\\n\")\n",
    "            print(\"This is the best value you got in your dice\",max(diceuser))\n",
    "            print(\"And I got the following points in my dices :\",dicemachine,\"being my best value:\",max(dicemachine))\n",
    "            if max(diceuser)>max(dicemachine):\n",
    "                player=player+1\n",
    "            if max(dicemachine)>=max(diceuser):\n",
    "                machine=machine+1\n",
    "            if player > machine:\n",
    "                print(\"\\n\")\n",
    "                print(\"You win the battle! Lucky you, my friend!\")\n",
    "                print(\"------------------------------\")\n",
    "            if machine >= player:\n",
    "                print(\"\\n\")\n",
    "                print(\"Sayonara, baby! But in life you can always try again ;)\")\n",
    "                print(\"------------------------------\")\n",
    "            \n",
    "            \n",
    "        \n",
    "        if x == 3:\n",
    "            diceuser.append(random.randint(1,6))                   \n",
    "            diceuser.append(random.randint(1,6))                 \n",
    "            dicemachine.append(random.randint(1,6))                 \n",
    "            dicemachine.append(random.randint(1,6))\n",
    "            print(\"\\n\")\n",
    "            print(\"You rolled two dices :\",diceuser,\"and your best value on them is:\",max(diceuser))\n",
    "            print(\"And I got the following points in my dices :\",dicemachine,\"being the best value of them:\",max(dicemachine))\n",
    "            if max(diceuser)>max(dicemachine):\n",
    "                player=player+1\n",
    "            if max(dicemachine)>=max(diceuser):\n",
    "                machine=machine+1\n",
    "            if player > machine:\n",
    "                print(\"\\n\")\n",
    "                print(\"You win the battle! Well done!\")\n",
    "                print(\"------------------------------\")\n",
    "            if machine >= player:\n",
    "                print(\"\\n\")\n",
    "                print(\"You lose the battle! :P\")\n",
    "                print(\"------------------------------\")\n",
    "           \n",
    "    \n",
    "        if x > 3:\n",
    "            diceuser.append(random.randint(1,6))                   \n",
    "            diceuser.append(random.randint(1,6))\n",
    "            diceuser.append(random.randint(1,6))\n",
    "            dicemachine.append(random.randint(1,6))                   \n",
    "            dicemachine.append(random.randint(1,6))\n",
    "            print(\"\\n\")\n",
    "            print(\"These are your results of rolling three dices :\",diceuser,\"and your best value is:\",max(diceuser))\n",
    "            print(\"I've rolled two dices:\",dicemachine,\"being my best value between them:\",max(dicemachine))\n",
    "            if max(diceuser)>max(dicemachine):\n",
    "                player=player+1\n",
    "            if max(dicemachine)>=max(diceuser):\n",
    "                machine=machine+1\n",
    "            if player > machine:\n",
    "                print(\"\\n\")\n",
    "                print(\"You win the battle! Obviously, with three dices is easier!\")\n",
    "                print(\"------------------------------\")\n",
    "            if machine >= player:\n",
    "                print(\"\\n\")\n",
    "                print(\"Loser! It's better if you quit now!\")\n",
    "                print(\"------------------------------\")\n",
    "           \n",
    "        \n",
    "  \n",
    "\n",
    "\n",
    "\n",
    "\n",
    "\n",
    "        "
   ]
  },
  {
   "cell_type": "markdown",
   "metadata": {},
   "source": []
  }
 ],
 "metadata": {
  "kernelspec": {
   "display_name": "Python 3",
   "language": "python",
   "name": "python3"
  },
  "language_info": {
   "codemirror_mode": {
    "name": "ipython",
    "version": 3
   },
   "file_extension": ".py",
   "mimetype": "text/x-python",
   "name": "python",
   "nbconvert_exporter": "python",
   "pygments_lexer": "ipython3",
   "version": "3.8.5"
  },
  "toc": {
   "base_numbering": 1,
   "nav_menu": {},
   "number_sections": true,
   "sideBar": true,
   "skip_h1_title": false,
   "title_cell": "Table of Contents",
   "title_sidebar": "Contents",
   "toc_cell": false,
   "toc_position": {},
   "toc_section_display": true,
   "toc_window_display": true
  },
  "varInspector": {
   "cols": {
    "lenName": 16,
    "lenType": 16,
    "lenVar": 40
   },
   "kernels_config": {
    "python": {
     "delete_cmd_postfix": "",
     "delete_cmd_prefix": "del ",
     "library": "var_list.py",
     "varRefreshCmd": "print(var_dic_list())"
    },
    "r": {
     "delete_cmd_postfix": ") ",
     "delete_cmd_prefix": "rm(",
     "library": "var_list.r",
     "varRefreshCmd": "cat(var_dic_list()) "
    }
   },
   "types_to_exclude": [
    "module",
    "function",
    "builtin_function_or_method",
    "instance",
    "_Feature"
   ],
   "window_display": false
  }
 },
 "nbformat": 4,
 "nbformat_minor": 4
}
