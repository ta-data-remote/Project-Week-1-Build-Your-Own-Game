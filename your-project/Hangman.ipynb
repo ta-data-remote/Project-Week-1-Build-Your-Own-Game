{
 "cells": [
  {
   "cell_type": "markdown",
   "metadata": {},
   "source": [
    "# The German Hangman Game\n",
    "Here you will find my awesome code for the ultrahard German Hangman Game."
   ]
  },
  {
   "cell_type": "code",
   "execution_count": 1,
   "metadata": {},
   "outputs": [],
   "source": [
    "# START GAME\n",
    "# user input \"name\" > all characters can be accepted\n",
    "# print \"Hi \"name\", are you ready to get owned by German Hangman?\"\n",
    "# wait 2 seconds, start game\n",
    "\n",
    "# CHOOSE RANDOM WORD\n",
    "# get a random word from word_list\n",
    "# convert all words from word_list to upper case \n",
    "# store word in variable \"word\"\n",
    "\n",
    "# GAMEPLAY FUNCTION\n",
    "# set 10 tries (user can guess as much as he wants, but fail only 10 times)\n",
    "# display the length of \"word\" to the user with _ _ _ underscores\n",
    "# Hidden letters are shown as underscores, guessed letters will be unmasked\n",
    "# prompt the user to guess a letter or word \n",
    "    # user input convert to uppercase always\n",
    "# while loop until word is guessed or user runs out of tries\n",
    "    # letter is in secret word > show letter in secret word, ask for user input again, show remaining tries, print \"Nice try!\"\n",
    "    # letter is not in secret word > -1 try and ask for user input again, show remaining tries, print \"This letter is not in the word, try again!\"\n",
    "# if user runs out of tries (10) and looses:\n",
    "    # secret word is displayed, print \"\"name\" you loose, guess you got owned by German hangman\", start play again function\n",
    "# if user wins or guesses the word right\n",
    "    # word is displayed, print \"\"name\" you win, you are ready to move to Berlin now!\", start play again function\n",
    "     \n",
    "# PLAY AGAIN FUNCTION\n",
    "# print \"Are you ready to play again?\"\n",
    "# print \"enter \"Y\" to start \"N\" \n",
    "    # make sure that only Y and N is possible (not weird other input > error message \" wow you are already failing here\"\n",
    "    # gameplay function starts again\n",
    "\n",
    "# possible problems with user input > error messages:\n",
    "    # not a letter\n",
    "    # same letter twice (show the user which letters he already used?)"
   ]
  },
  {
   "cell_type": "code",
   "execution_count": 2,
   "metadata": {},
   "outputs": [],
   "source": [
    "word_list = [\n",
    "    'Heizoelrueckstossabdaempfung',\n",
    "    'Donaudampfschifffahrtskapitaensgeselltschaftsmuetzenhalterung',\n",
    "    'Lokomotivdampfkesseldruckventilverschlussklappe',\n",
    "    'Kirschkernweitspuckwettbewerb',\n",
    "    'Weihnachtsmannschokoladeneinpackpapier',\n",
    "    'Atmosphaere',\n",
    "    'Destinationslebenszyklusmodell',\n",
    "    'Desoxyribonukleinsaeure',\n",
    "    'Papierschnipselchen',\n",
    "    'Arbeitsunfaehigkeitsbescheinigung',\n",
    "    'Hundehaftpflichtversicherung']"
   ]
  },
  {
   "cell_type": "code",
   "execution_count": 3,
   "metadata": {},
   "outputs": [],
   "source": [
    "import random"
   ]
  },
  {
   "cell_type": "code",
   "execution_count": 4,
   "metadata": {},
   "outputs": [],
   "source": [
    "import time"
   ]
  },
  {
   "cell_type": "code",
   "execution_count": 5,
   "metadata": {},
   "outputs": [
    {
     "name": "stdout",
     "output_type": "stream",
     "text": [
      "What is your name? Sarah\n",
      "Hello, Sarah are you ready to get owned by German Hangman?\n",
      "Start guessing...\n",
      "\n",
      "\n"
     ]
    }
   ],
   "source": [
    "#Start of the game\n",
    "\n",
    "name = input(\"What is your name? \")\n",
    "\n",
    "print (\"Hello, \" + name, \"are you ready to get owned by German Hangman?\")\n",
    "\n",
    "time.sleep(2)\n",
    "\n",
    "print (\"Start guessing...\")\n",
    "print(\"\\n\")\n",
    "time.sleep(1)"
   ]
  },
  {
   "cell_type": "code",
   "execution_count": 21,
   "metadata": {},
   "outputs": [],
   "source": [
    "#Functions\n",
    "\n",
    "def get_word():\n",
    "    word = random.choice(word_list)\n",
    "    return word.upper()\n",
    "\n",
    "def play (word):\n",
    "    word_completion = (\"_\" * len(word))\n",
    "    guessed = False\n",
    "    guessed_letters = []\n",
    "    guessed_words = []\n",
    "    tries = 5\n",
    "\n",
    "    print(word_completion)\n",
    "    print(\"\\n\")\n",
    "\n",
    "    while guessed == False and tries > 0:    #guessed letter\n",
    "        guess = input(\"Please guess a letter or word: \").upper()\n",
    "        if len(guess) == 1 and guess.isalpha():\n",
    "            if guess in guessed_letters:\n",
    "                print(\"You already guessed the letter\", guess)\n",
    "                print(\"\\n\")\n",
    "            elif guess not in word:\n",
    "                print(guess, \"is not in the word.\")\n",
    "                print(\"\\n\")\n",
    "                tries -= 1\n",
    "                guessed_letters.append(guess)\n",
    "            else:\n",
    "                print(\"Good job,\", guess, \"is in the word!\")\n",
    "                print(\"\\n\")\n",
    "                guessed_letters.append(guess)\n",
    "                word_as_list = list(word_completion)\n",
    "                indices = [i for i, letter in enumerate(word) if letter == guess]\n",
    "                for index in indices:\n",
    "                    word_as_list[index] = guess\n",
    "                word_completion = \"\".join(word_as_list)\n",
    "                if \"_\" not in word_completion:\n",
    "                    guessed = True\n",
    "        elif len(guess) == len(word) and guess.isalpha():  #guessed word\n",
    "            if guess in guessed_words:\n",
    "                print(\"You already guessed the word\", guess)\n",
    "                print(\"\\n\")\n",
    "            elif guess != word:\n",
    "                print(guess, \"is not the word.\")\n",
    "                print(\"\\n\")\n",
    "                tries -= 1\n",
    "                guessed_words.append(guess)\n",
    "            else:\n",
    "                guessed = True\n",
    "                word_completion = word\n",
    "        else:\n",
    "            print(\"Not a valid guess.\")\n",
    "            print(\"\\n\")\n",
    "        print(word_completion)\n",
    "        print(\"\\n\")\n",
    "    if guessed:\n",
    "        print(\"You win, you are ready to move to Berlin now!\")\n",
    "        print(\"\\n\")\n",
    "    else:\n",
    "        print(\"Sorry, you ran out of tries. The word was \" + word + \". Maybe next time!\")\n",
    "        print(\"\\n\")\n",
    "\n",
    "\n",
    "def play_again():\n",
    "    again = input(\"Ready to play Again? Input (Y/N) \").upper()\n",
    "    print(\"\\n\")\n",
    "    if again == \"Y\":\n",
    "        play(word = get_word())\n",
    "        play_again()\n",
    "    elif again == \"N\":\n",
    "        print(\"Ciao Kakao!\")\n",
    "    else:\n",
    "        print(\"Y or N, no other input please...\")\n",
    "        print(\"\\n\")\n",
    "        play_again()"
   ]
  },
  {
   "cell_type": "code",
   "execution_count": 20,
   "metadata": {},
   "outputs": [
    {
     "name": "stdout",
     "output_type": "stream",
     "text": [
      "_____________________________\n",
      "\n",
      "\n",
      "Please guess a letter or word: ü\n",
      "Ü is not in the word.\n",
      "\n",
      "\n",
      "_____________________________\n",
      "\n",
      "\n",
      "Please guess a letter or word: ä\n",
      "Ä is not in the word.\n",
      "\n",
      "\n",
      "_____________________________\n",
      "\n",
      "\n",
      "Sorry, you ran out of tries. The word was KIRSCHKERNWEITSPUCKWETTBEWERB. Maybe next time!\n",
      "\n",
      "\n",
      "Ready to play Again? Input (Y/N) y\n",
      "\n",
      "\n",
      "____________________________\n",
      "\n",
      "\n",
      "Please guess a letter or word: ü\n",
      "Ü is not in the word.\n",
      "\n",
      "\n",
      "____________________________\n",
      "\n",
      "\n",
      "Please guess a letter or word: ä\n",
      "Ä is not in the word.\n",
      "\n",
      "\n",
      "____________________________\n",
      "\n",
      "\n",
      "Sorry, you ran out of tries. The word was HUNDEHAFTPFLICHTVERSICHERUNG. Maybe next time!\n",
      "\n",
      "\n",
      "Ready to play Again? Input (Y/N) y\n",
      "\n",
      "\n",
      "______________________________\n",
      "\n",
      "\n",
      "Please guess a letter or word: ü\n",
      "Ü is not in the word.\n",
      "\n",
      "\n",
      "______________________________\n",
      "\n",
      "\n",
      "Please guess a letter or word: q\n",
      "Q is not in the word.\n",
      "\n",
      "\n",
      "______________________________\n",
      "\n",
      "\n",
      "Sorry, you ran out of tries. The word was DESTINATIONSLEBENSZYKLUSMODELL. Maybe next time!\n",
      "\n",
      "\n",
      "Ready to play Again? Input (Y/N) n\n",
      "\n",
      "\n",
      "Ciao Kakao!\n"
     ]
    }
   ],
   "source": [
    "play(word = get_word())\n",
    "play_again()"
   ]
  },
  {
   "cell_type": "code",
   "execution_count": null,
   "metadata": {},
   "outputs": [],
   "source": []
  }
 ],
 "metadata": {
  "kernelspec": {
   "display_name": "Python 3",
   "language": "python",
   "name": "python3"
  },
  "language_info": {
   "codemirror_mode": {
    "name": "ipython",
    "version": 3
   },
   "file_extension": ".py",
   "mimetype": "text/x-python",
   "name": "python",
   "nbconvert_exporter": "python",
   "pygments_lexer": "ipython3",
   "version": "3.8.5"
  },
  "toc": {
   "base_numbering": 1,
   "nav_menu": {},
   "number_sections": true,
   "sideBar": true,
   "skip_h1_title": false,
   "title_cell": "Table of Contents",
   "title_sidebar": "Contents",
   "toc_cell": false,
   "toc_position": {},
   "toc_section_display": true,
   "toc_window_display": false
  },
  "varInspector": {
   "cols": {
    "lenName": 16,
    "lenType": 16,
    "lenVar": 40
   },
   "kernels_config": {
    "python": {
     "delete_cmd_postfix": "",
     "delete_cmd_prefix": "del ",
     "library": "var_list.py",
     "varRefreshCmd": "print(var_dic_list())"
    },
    "r": {
     "delete_cmd_postfix": ") ",
     "delete_cmd_prefix": "rm(",
     "library": "var_list.r",
     "varRefreshCmd": "cat(var_dic_list()) "
    }
   },
   "types_to_exclude": [
    "module",
    "function",
    "builtin_function_or_method",
    "instance",
    "_Feature"
   ],
   "window_display": false
  }
 },
 "nbformat": 4,
 "nbformat_minor": 4
}
