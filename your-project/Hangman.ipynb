{
 "cells": [
  {
   "cell_type": "markdown",
   "metadata": {},
   "source": [
    "## Hangman"
   ]
  },
  {
   "cell_type": "markdown",
   "metadata": {},
   "source": [
    "### Instructions\n",
    "The goal is to guess the word to save the hangman from death. Enter one letter at a time to see if it’s in the word. If you have guessed correctly, the letter will appear in the blank spaces. If the letter is not in the word, you loose a life. The initial number of lifes is 7. If the word is not guessed before spending all 7 lifes, the game ends and you loose. If you guess the whole word, you win!!"
   ]
  },
  {
   "cell_type": "code",
   "execution_count": null,
   "metadata": {},
   "outputs": [],
   "source": [
    "# Pseudocode\n",
    "\n",
    "\n",
    "# First, the user will be shown a number of blank spaces ( _ ),\n",
    "# that represent the number of letters the word to guess has. The word will be randomly selected from a tuple, and displayed\n",
    "# to the user as blank spaces. \n",
    "\n",
    "# For this, the \"random\" library will be imported, and with random.choice(tuple), the word will be selected.\n",
    "# Then, a user defined function will be created that converts the word into a set of \"_\" separated with spaces. (sep = \" \")?\n",
    "\n",
    "# The user then will be asked to introduce a letter (input function). If the letter belongs to the word (if loop), \n",
    "# the program will return the letter in the position it belongs together with the rest of the rest of blank spaces.\n",
    "# If the letter does not belong to the word, then the program will return a message saying: \n",
    "# \"you lost one life, x lives remaining\"\n",
    "# and the program will substract one life from the life counter, which starts with 7 lives.\n",
    " \n",
    "# If the life counter reaches 0, the game will end, the program will stop, and return the message: \"Game Over\".\n",
    "\n",
    "# If the user continues to guess letters correctly until he has the whole word, he will receive points equal to the \n",
    "# number of remaining lives(points list). Then, a new different word will appear and the life counter will restart. "
   ]
  },
  {
   "cell_type": "code",
   "execution_count": 1,
   "metadata": {},
   "outputs": [],
   "source": [
    "def check_letter(word, guesses):\n",
    "    failed = 0    \n",
    "\n",
    "    for letter in word:\n",
    "            # compares the letter with the letter in guesses\n",
    "        if letter in guesses:\n",
    "            print(letter, end = \" \")\n",
    "        else:\n",
    "            print(\"_\", end = \" \")\n",
    "            failed += 1\n",
    "\n",
    "    if failed == 0:\n",
    "        # user will win the game if fail is 0\n",
    "        print(\"You Win. The word is: \", word)"
   ]
  },
  {
   "cell_type": "code",
   "execution_count": 5,
   "metadata": {},
   "outputs": [],
   "source": [
    "import random\n",
    "\n",
    "def vidas(x):\n",
    "    words = (\"music\", \"destination\", \"electricity\", \"television\", \"laptop\", \"berlin\", \"amazon\", \"guitar\", \"love\", \"seagull\",\n",
    "         \"karate\", \"party\", \"hangman\", \"python\", \"teacher\", \"uncle\", \"car\", \"science\", \"screen\", \"chair\")\n",
    "    word = random.choice(words) # chooses a word randomly from the tuple \"words\"\n",
    "    guesses = str()  # This is a string to which the letters entered by user will be added.\n",
    "    \n",
    "    while x > 0:\n",
    "\n",
    "\n",
    "        check_letter(word,guesses)\n",
    "\n",
    "        guess = input(\"Guess a letter: \")\n",
    "\n",
    "        # letters are stored in guesses\n",
    "        guesses += guess\n",
    "\n",
    "        # check input with the letter in word\n",
    "        if guess not in word:\n",
    "            x -= 1\n",
    "            # if the letter is wrong then the following is printed\n",
    "            print(\"The letter does not belong in the word\")\n",
    "            print(\"You have\", + x, 'lives left')\n",
    "            if x == 0:\n",
    "                print(\"GAME OVER\")"
   ]
  },
  {
   "cell_type": "code",
   "execution_count": null,
   "metadata": {},
   "outputs": [
    {
     "name": "stdout",
     "output_type": "stream",
     "text": [
      "_ _ _ _ _ Guess a letter: a\n",
      "_ a _ _ _ Guess a letter: d\n",
      "The letter does not belong in the word\n",
      "You have 6 lives left\n",
      "_ a _ _ _ Guess a letter: f\n",
      "The letter does not belong in the word\n",
      "You have 5 lives left\n",
      "_ a _ _ _ "
     ]
    }
   ],
   "source": [
    "vidas(7)"
   ]
  },
  {
   "cell_type": "code",
   "execution_count": null,
   "metadata": {},
   "outputs": [],
   "source": []
  }
 ],
 "metadata": {
  "kernelspec": {
   "display_name": "Python 3",
   "language": "python",
   "name": "python3"
  },
  "language_info": {
   "codemirror_mode": {
    "name": "ipython",
    "version": 3
   },
   "file_extension": ".py",
   "mimetype": "text/x-python",
   "name": "python",
   "nbconvert_exporter": "python",
   "pygments_lexer": "ipython3",
   "version": "3.8.5"
  }
 },
 "nbformat": 4,
 "nbformat_minor": 4
}
