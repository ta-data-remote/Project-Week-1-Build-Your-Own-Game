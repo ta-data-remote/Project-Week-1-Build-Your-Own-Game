{
 "cells": [
  {
   "cell_type": "markdown",
   "metadata": {},
   "source": [
    "# Project #1: Hangman"
   ]
  },
  {
   "cell_type": "markdown",
   "metadata": {},
   "source": [
    "**Welcome** to my Game-Project from Week 1 of the Bootcamp @Ironhack 👋"
   ]
  },
  {
   "cell_type": "markdown",
   "metadata": {},
   "source": [
    "# Content"
   ]
  },
  {
   "cell_type": "markdown",
   "metadata": {},
   "source": [
    "- [Project Description](#project-description)\n",
    "- [Rules](#rules)\n",
    "- [Workflow](#workflow)\n",
    "- [Organization](#organization)\n",
    "- [Links](#links)\n",
    "- [The code](#the-code)"
   ]
  },
  {
   "cell_type": "markdown",
   "metadata": {},
   "source": [
    "# Project Description"
   ]
  },
  {
   "cell_type": "markdown",
   "metadata": {},
   "source": [
    "The purpose of this project is to apply the knowledge from the python lectures from the first week of the bootcamp. I chose the Hangman because it applies many of the commands from the past lessons in an interesting way: keeping track of guessed letters in lists, using sets for unique letters in a word in case there are duplicates of the same letter in a word. Replacing underscores with values and defining how the game is lost or won."
   ]
  },
  {
   "cell_type": "markdown",
   "metadata": {},
   "source": [
    "# Rules"
   ]
  },
  {
   "cell_type": "markdown",
   "metadata": {},
   "source": [
    "- You have to guess a letter to find the random word the game has chosen\n",
    "- Everytime you guess a correct letter the game will show you at which location this letter is located within the word\n",
    "- If your guess is wrong you loose one life\n",
    "- You have 5 lives to guess the letter and win the game"
   ]
  },
  {
   "cell_type": "markdown",
   "metadata": {},
   "source": [
    "# Workflow"
   ]
  },
  {
   "cell_type": "markdown",
   "metadata": {},
   "source": [
    "My first step was to plan when I wanted to be finished with which part of the project. After deciding my deadlines I started\n",
    "a list of steps I would have to follow for the game as a rough overview. I also noted some challenges where I could run into\n",
    "trouble and additional functions for my game."
   ]
  },
  {
   "cell_type": "markdown",
   "metadata": {},
   "source": [
    "# Organization"
   ]
  },
  {
   "cell_type": "markdown",
   "metadata": {},
   "source": [
    "I used a Kanban board to keep track of my tasks for the project. I also noted down my rough coding steps in the same board. \n",
    "What does your repository look like? Explain your folder and file structure."
   ]
  },
  {
   "cell_type": "markdown",
   "metadata": {},
   "source": [
    "# Links"
   ]
  },
  {
   "cell_type": "markdown",
   "metadata": {},
   "source": [
    "📝 Here's the Link to my Kanban board: [Link](https://trello.com/invite/b/viWmMesQ/cc93d367b4a263b4194d6dc3ff709962/data-projects)\n",
    "\n",
    "\n",
    "💻 My repository: [Link](github.com)\n",
    "\n",
    "\n",
    "📈 You can find my presentation here: [Link](slides.com)"
   ]
  },
  {
   "cell_type": "markdown",
   "metadata": {},
   "source": [
    "# The Code"
   ]
  },
  {
   "cell_type": "code",
   "execution_count": 3,
   "metadata": {},
   "outputs": [],
   "source": [
    "import random"
   ]
  },
  {
   "cell_type": "code",
   "execution_count": 4,
   "metadata": {},
   "outputs": [],
   "source": [
    "word_list = [\"tree\", \"flower\", \"car\", \"hobbies\", \"football\", \"palm\", \"picture\", \n",
    "             \"picture\", \"python\", \"data\", \"bootcamp\", \"ironhack\", \"computer\", \"berlin\", \"london\"]"
   ]
  },
  {
   "cell_type": "code",
   "execution_count": 5,
   "metadata": {},
   "outputs": [],
   "source": [
    "random_word = random.choice(word_list)\n",
    "word_len = len(random_word)    \n",
    "underscore = ['_ '] * len(random_word)\n",
    "guessed_correct_letters = []\n",
    "guessed_letters = []\n",
    "random_word_set = set(random_word)\n",
    "set_guessed_letters = set()\n",
    "life = 5"
   ]
  },
  {
   "cell_type": "code",
   "execution_count": 6,
   "metadata": {},
   "outputs": [
    {
     "name": "stdout",
     "output_type": "stream",
     "text": [
      "Let's play Hangman: \n",
      "\n",
      "\n",
      "You have 5 lives. The word is 6 letters long: _ _ _ _ _ _ \n",
      "\n",
      "What letter do you want to guess? p\n",
      "\n",
      "p is not in this word... you have 4 lives left\n",
      "\n",
      "What letter do you want to guess? l\n",
      "\n",
      "Well Done! l is in the word\n",
      "\n",
      "_  _  _  l _  _  \n",
      "\n",
      "\n",
      "What letter do you want to guess? d\n",
      "\n",
      "d is not in this word... you have 3 lives left\n",
      "\n",
      "What letter do you want to guess? a\n",
      "\n",
      "a is not in this word... you have 2 lives left\n",
      "\n",
      "What letter do you want to guess? i\n",
      "\n",
      "Well Done! i is in the word\n",
      "\n",
      "_  _  _  l i _  \n",
      "\n",
      "\n",
      "What letter do you want to guess? b\n",
      "\n",
      "Well Done! b is in the word\n",
      "\n",
      "b _  _  l i _  \n",
      "\n",
      "\n",
      "What letter do you want to guess? e\n",
      "\n",
      "Well Done! e is in the word\n",
      "\n",
      "b e _  l i _  \n",
      "\n",
      "\n",
      "What letter do you want to guess? r\n",
      "\n",
      "Well Done! r is in the word\n",
      "\n",
      "b e r l i _  \n",
      "\n",
      "\n",
      "What letter do you want to guess? n\n",
      "\n",
      "Well Done! n is in the word\n",
      "\n",
      "b e r l i n \n",
      "\n",
      "Yay! You won. The word was berlin\n"
     ]
    }
   ],
   "source": [
    "print(\"Let's play Hangman: \\n\\n\")\n",
    "\n",
    "print(\"You have 5 lives. The word is\", word_len, \"letters long:\", \"_ \"*len(random_word))\n",
    "\n",
    "\n",
    "def print_underscore():\n",
    "    print(\"\")\n",
    "    print(''.join([x+\" \" for x in underscore]))\n",
    "    print(\"\")\n",
    "\n",
    "win = False\n",
    "    \n",
    "while life > 0 and win == False :\n",
    "    print(\"\")\n",
    "    user_input_pre = input(\"What letter do you want to guess? \")\n",
    "    \n",
    "    if  user_input_pre.isdigit():\n",
    "        print(\"\\n{} is not a letter!\".format(user_input_pre))\n",
    "        continue\n",
    "        \n",
    "    user_input = user_input_pre.lower() #turn input into lower in case it's a capital letter\n",
    "    \n",
    "    if user_input in guessed_letters: #not only correct guessed letters, otherwise it doesnt recognize wrong duplicates\n",
    "        print(\"\\nYou've already tried the letter {}!\".format(user_input))\n",
    "        continue\n",
    "    \n",
    "    guessed_letters.append(user_input) #keep track of letters guessed    \n",
    "        \n",
    "    if user_input in random_word:\n",
    "      \n",
    "        for i, x in enumerate(random_word):\n",
    "            if x == user_input:\n",
    "                underscore[i] = user_input       \n",
    "      \n",
    "        print(\"\\nWell Done! {} is in the word\".format(user_input))\n",
    "        print_underscore()\n",
    "        guessed_correct_letters.append(user_input)\n",
    "        set_guessed_letters = set(guessed_letters)\n",
    "        if len(random_word_set.difference(set_guessed_letters)) == 0:\n",
    "            print(\"Yay! You won. The word was {}\".format(random_word))\n",
    "            win = True\n",
    "                        \n",
    "    else: \n",
    "        \n",
    "        life -= 1\n",
    "        \n",
    "        print(\"\")\n",
    "        print(user_input,\"is not in this word... you have\", life, \"lives left\")\n",
    "        \n",
    "        if life == 0:\n",
    "            print(\"\")\n",
    "            print(\"You are out of lives...Game over :'(\")"
   ]
  }
 ],
 "metadata": {
  "kernelspec": {
   "display_name": "Python 3",
   "language": "python",
   "name": "python3"
  },
  "language_info": {
   "codemirror_mode": {
    "name": "ipython",
    "version": 3
   },
   "file_extension": ".py",
   "mimetype": "text/x-python",
   "name": "python",
   "nbconvert_exporter": "python",
   "pygments_lexer": "ipython3",
   "version": "3.8.5"
  }
 },
 "nbformat": 4,
 "nbformat_minor": 4
}
