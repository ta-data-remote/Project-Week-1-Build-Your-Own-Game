{
 "cells": [
  {
   "cell_type": "code",
   "execution_count": 1,
   "metadata": {},
   "outputs": [
    {
     "name": "stdout",
     "output_type": "stream",
     "text": [
      "It's time to play some Hangman!\n",
      "\n"
     ]
    }
   ],
   "source": [
    "# The Hangman program randomly selects a secret word for the player to guess from a list of words. The random module will provide this ability\n",
    "import random\n",
    "# Definition of the word list which is used in the game\n",
    "words = [\n",
    "\"print\", \"abs\", \"round\", \"min\", \"max\", \"sum\", \"len\", \"type\", \"upper\", \"append\", \"lower\", \"strip\", \"replace\", \"split\", \"False\", \"await\", \"else\", \"import\", \"pass\", \"None\", \"break\", \"except\", \"in\", \"raise\", \"True\", \"class\", \"lambda\" , \"def\",  \"nonlocal\", \"whileassert\", \"del\", \"global\" , \"elif\"]\n",
    "print(\"It's time to play some Hangman!\\n\")"
   ]
  },
  {
   "cell_type": "code",
   "execution_count": null,
   "metadata": {},
   "outputs": [],
   "source": [
    "\n",
    "    \n",
    " "
   ]
  },
  {
   "cell_type": "code",
   "execution_count": 2,
   "metadata": {},
   "outputs": [],
   "source": [
    "\n",
    "\n",
    "# Loop conditions if game is not yet done\n",
    "def guessing():\n",
    "    words = [\"print\", \"abs\", \"round\", \"min\", \"max\", \"sum\", \"len\", \"type\", \"upper\", \"append\", \"lower\", \"strip\", \"replace\", \"split\", \"False\", \"await\", \"else\", \"import\", \"pass\", \"None\", \"break\", \"except\", \"in\", \"raise\", \"True\", \"class\", \"lambda\" , \"def\",  \"nonlocal\", \"whileassert\", \"del\", \"global\" , \"elif\"]\n",
    "    print(\"It's time to play some Hangman!\\n\")\n",
    "    # Define rules of the game\n",
    "    # define maximum trials\n",
    "    allowed_trials = 6\n",
    "    # list of guesses\n",
    "    guesses = []\n",
    "    # by default the game is not yet done\n",
    "    done = False\n",
    "    # get random word by using the random variable\n",
    "    word = random.choice(words)\n",
    "    \n",
    "    while not done:\n",
    "\n",
    "        # if the letter is in the word, display the letter in the string\n",
    "        for letter in word:\n",
    "            if letter.lower() in guesses:\n",
    "                print(letter, end = \" \")\n",
    "            # else print _ for letters not guessed    \n",
    "            else:\n",
    "                print(\"_\", end=\" \") \n",
    "        \n",
    "        # Input guess taking account number of possible trials\n",
    "        \n",
    "        guess= input(f\"\\n\\n Allowed Trials Left {allowed_trials}, \\n Previous Guesses {guesses}, \\n Guess: \")\n",
    "        #Add guesses to the end of a list without using list concatenation, use the append() method\n",
    "        guesses. append(guess.lower())\n",
    "        # count the number of trials left\n",
    "        if guess.lower() not in word.lower():\n",
    "            allowed_trials -= 1\n",
    "            # if no trials left do a break\n",
    "            if allowed_trials == 0 :\n",
    "                break\n",
    "\n",
    "\n",
    "        done = True\n",
    "        for letter in word:\n",
    "            if letter.lower() not in guesses:\n",
    "                done = False\n",
    "\n",
    "    # print result\n",
    "    if done:\n",
    "        print(f\"You found the word! It was {word}!\")\n",
    "    else:\n",
    "        print(f\"You lost - you did not find the word! It was {word}!\")\n",
    "\n",
    "\n",
    "#restart\n",
    "def restart():\n",
    "    user_input = input(\"Would you like to play again? Type 'Yes' or 'No'\\n\\n\")\n",
    "\n",
    "    if user_input.lower() == \"no\": \n",
    "        return False\n",
    "    elif user_input.lower() == \"yes\":\n",
    "        return True\n",
    "\n",
    "def startGame():\n",
    "    while True:\n",
    "        user_input = input(\"Type 'go' to start... \\n\\n\")\n",
    "        \n",
    "        if user_input == \"go\":\n",
    "            print(guessing())\n",
    "        else :\n",
    "            print('Thank you. See you soon again!')\n",
    "            break"
   ]
  },
  {
   "cell_type": "code",
   "execution_count": null,
   "metadata": {
    "scrolled": true
   },
   "outputs": [],
   "source": [
    "startGame()"
   ]
  },
  {
   "cell_type": "code",
   "execution_count": null,
   "metadata": {},
   "outputs": [],
   "source": []
  }
 ],
 "metadata": {
  "kernelspec": {
   "display_name": "Python 3",
   "language": "python",
   "name": "python3"
  },
  "language_info": {
   "codemirror_mode": {
    "name": "ipython",
    "version": 3
   },
   "file_extension": ".py",
   "mimetype": "text/x-python",
   "name": "python",
   "nbconvert_exporter": "python",
   "pygments_lexer": "ipython3",
   "version": "3.8.8"
  }
 },
 "nbformat": 4,
 "nbformat_minor": 2
}
