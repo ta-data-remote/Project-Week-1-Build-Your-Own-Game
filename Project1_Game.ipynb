{
 "cells": [
  {
   "cell_type": "code",
   "execution_count": null,
   "id": "6fe73f8b",
   "metadata": {},
   "outputs": [
    {
     "name": "stdout",
     "output_type": "stream",
     "text": [
      "Guess a number between 1 and 100: 50\n",
      "Let´s go\n",
      "Too bad, this number is too low \n"
     ]
    }
   ],
   "source": [
    "import random\n",
    "def my_game(game_range = 100, num_guesses = 7):\n",
    "    \n",
    "    number = random.randrange(1, game_range)\n",
    "\n",
    "    count = 0\n",
    "    guess = input(f\"Guess a number between 1 and {game_range}: \")\n",
    "    result = \"You lost!\"\n",
    "\n",
    "    while count < num_guesses:\n",
    "        if guess.isdigit():\n",
    "            count +=1\n",
    "            print (\"Let´s go\")\n",
    "            guess = int(guess)\n",
    "\n",
    "            if guess > number:\n",
    "                print(\"Too bad, this number is too high \")\n",
    "            elif guess < number:\n",
    "                print (\"Too bad, this number is too low \")\n",
    "            else:\n",
    "                result = \"Good job! You won the game!\"\n",
    "                break      \n",
    "\n",
    "            if count == num_guesses:\n",
    "                break\n",
    "            else:\n",
    "                guess = input(f\"Guess a number between 1 and {game_range}: \")\n",
    "\n",
    "        else:\n",
    "            print(\"Please enter a valid input and go again!\")\n",
    "            guess = input(f\"Guess a number between 1 and {game_range}: \")\n",
    "    return result           \n",
    "my_game()"
   ]
  },
  {
   "cell_type": "code",
   "execution_count": null,
   "id": "56690403",
   "metadata": {},
   "outputs": [],
   "source": []
  }
 ],
 "metadata": {
  "kernelspec": {
   "display_name": "Python 3",
   "language": "python",
   "name": "python3"
  },
  "language_info": {
   "codemirror_mode": {
    "name": "ipython",
    "version": 3
   },
   "file_extension": ".py",
   "mimetype": "text/x-python",
   "name": "python",
   "nbconvert_exporter": "python",
   "pygments_lexer": "ipython3",
   "version": "3.8.8"
  }
 },
 "nbformat": 4,
 "nbformat_minor": 5
}
